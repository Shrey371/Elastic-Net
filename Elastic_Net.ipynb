{
  "nbformat": 4,
  "nbformat_minor": 0,
  "metadata": {
    "colab": {
      "provenance": []
    },
    "kernelspec": {
      "name": "python3",
      "display_name": "Python 3"
    },
    "language_info": {
      "name": "python"
    }
  },
  "cells": [
    {
      "cell_type": "code",
      "execution_count": 1,
      "metadata": {
        "id": "V0zC8FbwX1DG"
      },
      "outputs": [],
      "source": [
        "import numpy as np\n",
        "import pandas as pd\n",
        "import matplotlib.pyplot as plt\n",
        "\n",
        "%matplotlib inline"
      ]
    },
    {
      "cell_type": "code",
      "source": [
        "data = pd.read_csv('https://raw.githubusercontent.com/Shrey371/Elastic-Net/main/database.csv')\n",
        "data.head()"
      ],
      "metadata": {
        "colab": {
          "base_uri": "https://localhost:8080/",
          "height": 334
        },
        "id": "Y7otGjzYX-Hk",
        "outputId": "c429d8e8-6a13-4834-ce77-ed096ba002c6"
      },
      "execution_count": 2,
      "outputs": [
        {
          "output_type": "execute_result",
          "data": {
            "text/plain": [
              "         Date      Time  Latitude  Longitude        Type  Depth  Depth Error  \\\n",
              "0  01/02/1965  13:44:18    19.246    145.616  Earthquake  131.6          NaN   \n",
              "1  01/04/1965  11:29:49     1.863    127.352  Earthquake   80.0          NaN   \n",
              "2  01/05/1965  18:05:58   -20.579   -173.972  Earthquake   20.0          NaN   \n",
              "3  01/08/1965  18:49:43   -59.076    -23.557  Earthquake   15.0          NaN   \n",
              "4  01/09/1965  13:32:50    11.938    126.427  Earthquake   15.0          NaN   \n",
              "\n",
              "   Depth Seismic Stations  Magnitude Magnitude Type  ...  \\\n",
              "0                     NaN        6.0             MW  ...   \n",
              "1                     NaN        5.8             MW  ...   \n",
              "2                     NaN        6.2             MW  ...   \n",
              "3                     NaN        5.8             MW  ...   \n",
              "4                     NaN        5.8             MW  ...   \n",
              "\n",
              "   Magnitude Seismic Stations  Azimuthal Gap  Horizontal Distance  \\\n",
              "0                         NaN            NaN                  NaN   \n",
              "1                         NaN            NaN                  NaN   \n",
              "2                         NaN            NaN                  NaN   \n",
              "3                         NaN            NaN                  NaN   \n",
              "4                         NaN            NaN                  NaN   \n",
              "\n",
              "   Horizontal Error  Root Mean Square            ID  Source Location Source  \\\n",
              "0               NaN               NaN  ISCGEM860706  ISCGEM          ISCGEM   \n",
              "1               NaN               NaN  ISCGEM860737  ISCGEM          ISCGEM   \n",
              "2               NaN               NaN  ISCGEM860762  ISCGEM          ISCGEM   \n",
              "3               NaN               NaN  ISCGEM860856  ISCGEM          ISCGEM   \n",
              "4               NaN               NaN  ISCGEM860890  ISCGEM          ISCGEM   \n",
              "\n",
              "  Magnitude Source     Status  \n",
              "0           ISCGEM  Automatic  \n",
              "1           ISCGEM  Automatic  \n",
              "2           ISCGEM  Automatic  \n",
              "3           ISCGEM  Automatic  \n",
              "4           ISCGEM  Automatic  \n",
              "\n",
              "[5 rows x 21 columns]"
            ],
            "text/html": [
              "\n",
              "  <div id=\"df-861c120f-ac56-40c6-8ee3-92bf46c81d75\">\n",
              "    <div class=\"colab-df-container\">\n",
              "      <div>\n",
              "<style scoped>\n",
              "    .dataframe tbody tr th:only-of-type {\n",
              "        vertical-align: middle;\n",
              "    }\n",
              "\n",
              "    .dataframe tbody tr th {\n",
              "        vertical-align: top;\n",
              "    }\n",
              "\n",
              "    .dataframe thead th {\n",
              "        text-align: right;\n",
              "    }\n",
              "</style>\n",
              "<table border=\"1\" class=\"dataframe\">\n",
              "  <thead>\n",
              "    <tr style=\"text-align: right;\">\n",
              "      <th></th>\n",
              "      <th>Date</th>\n",
              "      <th>Time</th>\n",
              "      <th>Latitude</th>\n",
              "      <th>Longitude</th>\n",
              "      <th>Type</th>\n",
              "      <th>Depth</th>\n",
              "      <th>Depth Error</th>\n",
              "      <th>Depth Seismic Stations</th>\n",
              "      <th>Magnitude</th>\n",
              "      <th>Magnitude Type</th>\n",
              "      <th>...</th>\n",
              "      <th>Magnitude Seismic Stations</th>\n",
              "      <th>Azimuthal Gap</th>\n",
              "      <th>Horizontal Distance</th>\n",
              "      <th>Horizontal Error</th>\n",
              "      <th>Root Mean Square</th>\n",
              "      <th>ID</th>\n",
              "      <th>Source</th>\n",
              "      <th>Location Source</th>\n",
              "      <th>Magnitude Source</th>\n",
              "      <th>Status</th>\n",
              "    </tr>\n",
              "  </thead>\n",
              "  <tbody>\n",
              "    <tr>\n",
              "      <th>0</th>\n",
              "      <td>01/02/1965</td>\n",
              "      <td>13:44:18</td>\n",
              "      <td>19.246</td>\n",
              "      <td>145.616</td>\n",
              "      <td>Earthquake</td>\n",
              "      <td>131.6</td>\n",
              "      <td>NaN</td>\n",
              "      <td>NaN</td>\n",
              "      <td>6.0</td>\n",
              "      <td>MW</td>\n",
              "      <td>...</td>\n",
              "      <td>NaN</td>\n",
              "      <td>NaN</td>\n",
              "      <td>NaN</td>\n",
              "      <td>NaN</td>\n",
              "      <td>NaN</td>\n",
              "      <td>ISCGEM860706</td>\n",
              "      <td>ISCGEM</td>\n",
              "      <td>ISCGEM</td>\n",
              "      <td>ISCGEM</td>\n",
              "      <td>Automatic</td>\n",
              "    </tr>\n",
              "    <tr>\n",
              "      <th>1</th>\n",
              "      <td>01/04/1965</td>\n",
              "      <td>11:29:49</td>\n",
              "      <td>1.863</td>\n",
              "      <td>127.352</td>\n",
              "      <td>Earthquake</td>\n",
              "      <td>80.0</td>\n",
              "      <td>NaN</td>\n",
              "      <td>NaN</td>\n",
              "      <td>5.8</td>\n",
              "      <td>MW</td>\n",
              "      <td>...</td>\n",
              "      <td>NaN</td>\n",
              "      <td>NaN</td>\n",
              "      <td>NaN</td>\n",
              "      <td>NaN</td>\n",
              "      <td>NaN</td>\n",
              "      <td>ISCGEM860737</td>\n",
              "      <td>ISCGEM</td>\n",
              "      <td>ISCGEM</td>\n",
              "      <td>ISCGEM</td>\n",
              "      <td>Automatic</td>\n",
              "    </tr>\n",
              "    <tr>\n",
              "      <th>2</th>\n",
              "      <td>01/05/1965</td>\n",
              "      <td>18:05:58</td>\n",
              "      <td>-20.579</td>\n",
              "      <td>-173.972</td>\n",
              "      <td>Earthquake</td>\n",
              "      <td>20.0</td>\n",
              "      <td>NaN</td>\n",
              "      <td>NaN</td>\n",
              "      <td>6.2</td>\n",
              "      <td>MW</td>\n",
              "      <td>...</td>\n",
              "      <td>NaN</td>\n",
              "      <td>NaN</td>\n",
              "      <td>NaN</td>\n",
              "      <td>NaN</td>\n",
              "      <td>NaN</td>\n",
              "      <td>ISCGEM860762</td>\n",
              "      <td>ISCGEM</td>\n",
              "      <td>ISCGEM</td>\n",
              "      <td>ISCGEM</td>\n",
              "      <td>Automatic</td>\n",
              "    </tr>\n",
              "    <tr>\n",
              "      <th>3</th>\n",
              "      <td>01/08/1965</td>\n",
              "      <td>18:49:43</td>\n",
              "      <td>-59.076</td>\n",
              "      <td>-23.557</td>\n",
              "      <td>Earthquake</td>\n",
              "      <td>15.0</td>\n",
              "      <td>NaN</td>\n",
              "      <td>NaN</td>\n",
              "      <td>5.8</td>\n",
              "      <td>MW</td>\n",
              "      <td>...</td>\n",
              "      <td>NaN</td>\n",
              "      <td>NaN</td>\n",
              "      <td>NaN</td>\n",
              "      <td>NaN</td>\n",
              "      <td>NaN</td>\n",
              "      <td>ISCGEM860856</td>\n",
              "      <td>ISCGEM</td>\n",
              "      <td>ISCGEM</td>\n",
              "      <td>ISCGEM</td>\n",
              "      <td>Automatic</td>\n",
              "    </tr>\n",
              "    <tr>\n",
              "      <th>4</th>\n",
              "      <td>01/09/1965</td>\n",
              "      <td>13:32:50</td>\n",
              "      <td>11.938</td>\n",
              "      <td>126.427</td>\n",
              "      <td>Earthquake</td>\n",
              "      <td>15.0</td>\n",
              "      <td>NaN</td>\n",
              "      <td>NaN</td>\n",
              "      <td>5.8</td>\n",
              "      <td>MW</td>\n",
              "      <td>...</td>\n",
              "      <td>NaN</td>\n",
              "      <td>NaN</td>\n",
              "      <td>NaN</td>\n",
              "      <td>NaN</td>\n",
              "      <td>NaN</td>\n",
              "      <td>ISCGEM860890</td>\n",
              "      <td>ISCGEM</td>\n",
              "      <td>ISCGEM</td>\n",
              "      <td>ISCGEM</td>\n",
              "      <td>Automatic</td>\n",
              "    </tr>\n",
              "  </tbody>\n",
              "</table>\n",
              "<p>5 rows × 21 columns</p>\n",
              "</div>\n",
              "      <button class=\"colab-df-convert\" onclick=\"convertToInteractive('df-861c120f-ac56-40c6-8ee3-92bf46c81d75')\"\n",
              "              title=\"Convert this dataframe to an interactive table.\"\n",
              "              style=\"display:none;\">\n",
              "        \n",
              "  <svg xmlns=\"http://www.w3.org/2000/svg\" height=\"24px\"viewBox=\"0 0 24 24\"\n",
              "       width=\"24px\">\n",
              "    <path d=\"M0 0h24v24H0V0z\" fill=\"none\"/>\n",
              "    <path d=\"M18.56 5.44l.94 2.06.94-2.06 2.06-.94-2.06-.94-.94-2.06-.94 2.06-2.06.94zm-11 1L8.5 8.5l.94-2.06 2.06-.94-2.06-.94L8.5 2.5l-.94 2.06-2.06.94zm10 10l.94 2.06.94-2.06 2.06-.94-2.06-.94-.94-2.06-.94 2.06-2.06.94z\"/><path d=\"M17.41 7.96l-1.37-1.37c-.4-.4-.92-.59-1.43-.59-.52 0-1.04.2-1.43.59L10.3 9.45l-7.72 7.72c-.78.78-.78 2.05 0 2.83L4 21.41c.39.39.9.59 1.41.59.51 0 1.02-.2 1.41-.59l7.78-7.78 2.81-2.81c.8-.78.8-2.07 0-2.86zM5.41 20L4 18.59l7.72-7.72 1.47 1.35L5.41 20z\"/>\n",
              "  </svg>\n",
              "      </button>\n",
              "      \n",
              "  <style>\n",
              "    .colab-df-container {\n",
              "      display:flex;\n",
              "      flex-wrap:wrap;\n",
              "      gap: 12px;\n",
              "    }\n",
              "\n",
              "    .colab-df-convert {\n",
              "      background-color: #E8F0FE;\n",
              "      border: none;\n",
              "      border-radius: 50%;\n",
              "      cursor: pointer;\n",
              "      display: none;\n",
              "      fill: #1967D2;\n",
              "      height: 32px;\n",
              "      padding: 0 0 0 0;\n",
              "      width: 32px;\n",
              "    }\n",
              "\n",
              "    .colab-df-convert:hover {\n",
              "      background-color: #E2EBFA;\n",
              "      box-shadow: 0px 1px 2px rgba(60, 64, 67, 0.3), 0px 1px 3px 1px rgba(60, 64, 67, 0.15);\n",
              "      fill: #174EA6;\n",
              "    }\n",
              "\n",
              "    [theme=dark] .colab-df-convert {\n",
              "      background-color: #3B4455;\n",
              "      fill: #D2E3FC;\n",
              "    }\n",
              "\n",
              "    [theme=dark] .colab-df-convert:hover {\n",
              "      background-color: #434B5C;\n",
              "      box-shadow: 0px 1px 3px 1px rgba(0, 0, 0, 0.15);\n",
              "      filter: drop-shadow(0px 1px 2px rgba(0, 0, 0, 0.3));\n",
              "      fill: #FFFFFF;\n",
              "    }\n",
              "  </style>\n",
              "\n",
              "      <script>\n",
              "        const buttonEl =\n",
              "          document.querySelector('#df-861c120f-ac56-40c6-8ee3-92bf46c81d75 button.colab-df-convert');\n",
              "        buttonEl.style.display =\n",
              "          google.colab.kernel.accessAllowed ? 'block' : 'none';\n",
              "\n",
              "        async function convertToInteractive(key) {\n",
              "          const element = document.querySelector('#df-861c120f-ac56-40c6-8ee3-92bf46c81d75');\n",
              "          const dataTable =\n",
              "            await google.colab.kernel.invokeFunction('convertToInteractive',\n",
              "                                                     [key], {});\n",
              "          if (!dataTable) return;\n",
              "\n",
              "          const docLinkHtml = 'Like what you see? Visit the ' +\n",
              "            '<a target=\"_blank\" href=https://colab.research.google.com/notebooks/data_table.ipynb>data table notebook</a>'\n",
              "            + ' to learn more about interactive tables.';\n",
              "          element.innerHTML = '';\n",
              "          dataTable['output_type'] = 'display_data';\n",
              "          await google.colab.output.renderOutput(dataTable, element);\n",
              "          const docLink = document.createElement('div');\n",
              "          docLink.innerHTML = docLinkHtml;\n",
              "          element.appendChild(docLink);\n",
              "        }\n",
              "      </script>\n",
              "    </div>\n",
              "  </div>\n",
              "  "
            ]
          },
          "metadata": {},
          "execution_count": 2
        }
      ]
    },
    {
      "cell_type": "code",
      "source": [
        "data.info()"
      ],
      "metadata": {
        "colab": {
          "base_uri": "https://localhost:8080/"
        },
        "id": "pAjZCz5XYHyF",
        "outputId": "85373f3b-f3b4-4294-9665-a99f1c14662d"
      },
      "execution_count": 3,
      "outputs": [
        {
          "output_type": "stream",
          "name": "stdout",
          "text": [
            "<class 'pandas.core.frame.DataFrame'>\n",
            "RangeIndex: 23412 entries, 0 to 23411\n",
            "Data columns (total 21 columns):\n",
            " #   Column                      Non-Null Count  Dtype  \n",
            "---  ------                      --------------  -----  \n",
            " 0   Date                        23412 non-null  object \n",
            " 1   Time                        23412 non-null  object \n",
            " 2   Latitude                    23412 non-null  float64\n",
            " 3   Longitude                   23412 non-null  float64\n",
            " 4   Type                        23412 non-null  object \n",
            " 5   Depth                       23412 non-null  float64\n",
            " 6   Depth Error                 4461 non-null   float64\n",
            " 7   Depth Seismic Stations      7097 non-null   float64\n",
            " 8   Magnitude                   23412 non-null  float64\n",
            " 9   Magnitude Type              23409 non-null  object \n",
            " 10  Magnitude Error             327 non-null    float64\n",
            " 11  Magnitude Seismic Stations  2564 non-null   float64\n",
            " 12  Azimuthal Gap               7299 non-null   float64\n",
            " 13  Horizontal Distance         1604 non-null   float64\n",
            " 14  Horizontal Error            1156 non-null   float64\n",
            " 15  Root Mean Square            17352 non-null  float64\n",
            " 16  ID                          23412 non-null  object \n",
            " 17  Source                      23412 non-null  object \n",
            " 18  Location Source             23412 non-null  object \n",
            " 19  Magnitude Source            23412 non-null  object \n",
            " 20  Status                      23412 non-null  object \n",
            "dtypes: float64(12), object(9)\n",
            "memory usage: 3.8+ MB\n"
          ]
        }
      ]
    },
    {
      "cell_type": "code",
      "source": [
        "len(data.index)"
      ],
      "metadata": {
        "colab": {
          "base_uri": "https://localhost:8080/"
        },
        "id": "qv2NBMtSY5l6",
        "outputId": "92312481-f82a-4e9d-c5f5-d820bb6cd12b"
      },
      "execution_count": 4,
      "outputs": [
        {
          "output_type": "execute_result",
          "data": {
            "text/plain": [
              "23412"
            ]
          },
          "metadata": {},
          "execution_count": 4
        }
      ]
    },
    {
      "cell_type": "code",
      "source": [
        "data.describe(include='all')"
      ],
      "metadata": {
        "colab": {
          "base_uri": "https://localhost:8080/",
          "height": 522
        },
        "id": "6JqBs6aZYast",
        "outputId": "b8d3c88b-d57a-4ece-999a-622883a9ddf7"
      },
      "execution_count": 6,
      "outputs": [
        {
          "output_type": "execute_result",
          "data": {
            "text/plain": [
              "              Date      Time      Latitude     Longitude        Type  \\\n",
              "count        23412     23412  23412.000000  23412.000000       23412   \n",
              "unique       12401     20472           NaN           NaN           4   \n",
              "top     03/11/2011  02:56:58           NaN           NaN  Earthquake   \n",
              "freq           128         5           NaN           NaN       23232   \n",
              "mean           NaN       NaN      1.679033     39.639961         NaN   \n",
              "std            NaN       NaN     30.113183    125.511959         NaN   \n",
              "min            NaN       NaN    -77.080000   -179.997000         NaN   \n",
              "25%            NaN       NaN    -18.653000    -76.349750         NaN   \n",
              "50%            NaN       NaN     -3.568500    103.982000         NaN   \n",
              "75%            NaN       NaN     26.190750    145.026250         NaN   \n",
              "max            NaN       NaN     86.005000    179.998000         NaN   \n",
              "\n",
              "               Depth  Depth Error  Depth Seismic Stations     Magnitude  \\\n",
              "count   23412.000000  4461.000000             7097.000000  23412.000000   \n",
              "unique           NaN          NaN                     NaN           NaN   \n",
              "top              NaN          NaN                     NaN           NaN   \n",
              "freq             NaN          NaN                     NaN           NaN   \n",
              "mean       70.767911     4.993115              275.364098      5.882531   \n",
              "std       122.651898     4.875184              162.141631      0.423066   \n",
              "min        -1.100000     0.000000                0.000000      5.500000   \n",
              "25%        14.522500     1.800000              146.000000      5.600000   \n",
              "50%        33.000000     3.500000              255.000000      5.700000   \n",
              "75%        54.000000     6.300000              384.000000      6.000000   \n",
              "max       700.000000    91.295000              934.000000      9.100000   \n",
              "\n",
              "       Magnitude Type  ...  Magnitude Seismic Stations  Azimuthal Gap  \\\n",
              "count           23409  ...                 2564.000000    7299.000000   \n",
              "unique             10  ...                         NaN            NaN   \n",
              "top                MW  ...                         NaN            NaN   \n",
              "freq             7722  ...                         NaN            NaN   \n",
              "mean              NaN  ...                   48.944618      44.163532   \n",
              "std               NaN  ...                   62.943106      32.141486   \n",
              "min               NaN  ...                    0.000000       0.000000   \n",
              "25%               NaN  ...                   10.000000      24.100000   \n",
              "50%               NaN  ...                   28.000000      36.000000   \n",
              "75%               NaN  ...                   66.000000      54.000000   \n",
              "max               NaN  ...                  821.000000     360.000000   \n",
              "\n",
              "        Horizontal Distance  Horizontal Error  Root Mean Square            ID  \\\n",
              "count           1604.000000       1156.000000      17352.000000         23412   \n",
              "unique                  NaN               NaN               NaN         23412   \n",
              "top                     NaN               NaN               NaN  ISCGEM860706   \n",
              "freq                    NaN               NaN               NaN             1   \n",
              "mean               3.992660          7.662759          1.022784           NaN   \n",
              "std                5.377262         10.430396          0.188545           NaN   \n",
              "min                0.004505          0.085000          0.000000           NaN   \n",
              "25%                0.968750          5.300000          0.900000           NaN   \n",
              "50%                2.319500          6.700000          1.000000           NaN   \n",
              "75%                4.724500          8.100000          1.130000           NaN   \n",
              "max               37.874000         99.000000          3.440000           NaN   \n",
              "\n",
              "       Source Location Source Magnitude Source    Status  \n",
              "count   23412           23412            23412     23412  \n",
              "unique     13              48               24         2  \n",
              "top        US              US               US  Reviewed  \n",
              "freq    20630           20350            10458     20773  \n",
              "mean      NaN             NaN              NaN       NaN  \n",
              "std       NaN             NaN              NaN       NaN  \n",
              "min       NaN             NaN              NaN       NaN  \n",
              "25%       NaN             NaN              NaN       NaN  \n",
              "50%       NaN             NaN              NaN       NaN  \n",
              "75%       NaN             NaN              NaN       NaN  \n",
              "max       NaN             NaN              NaN       NaN  \n",
              "\n",
              "[11 rows x 21 columns]"
            ],
            "text/html": [
              "\n",
              "  <div id=\"df-a48c9a1d-cfe5-4bc5-911f-ea578258cc4e\">\n",
              "    <div class=\"colab-df-container\">\n",
              "      <div>\n",
              "<style scoped>\n",
              "    .dataframe tbody tr th:only-of-type {\n",
              "        vertical-align: middle;\n",
              "    }\n",
              "\n",
              "    .dataframe tbody tr th {\n",
              "        vertical-align: top;\n",
              "    }\n",
              "\n",
              "    .dataframe thead th {\n",
              "        text-align: right;\n",
              "    }\n",
              "</style>\n",
              "<table border=\"1\" class=\"dataframe\">\n",
              "  <thead>\n",
              "    <tr style=\"text-align: right;\">\n",
              "      <th></th>\n",
              "      <th>Date</th>\n",
              "      <th>Time</th>\n",
              "      <th>Latitude</th>\n",
              "      <th>Longitude</th>\n",
              "      <th>Type</th>\n",
              "      <th>Depth</th>\n",
              "      <th>Depth Error</th>\n",
              "      <th>Depth Seismic Stations</th>\n",
              "      <th>Magnitude</th>\n",
              "      <th>Magnitude Type</th>\n",
              "      <th>...</th>\n",
              "      <th>Magnitude Seismic Stations</th>\n",
              "      <th>Azimuthal Gap</th>\n",
              "      <th>Horizontal Distance</th>\n",
              "      <th>Horizontal Error</th>\n",
              "      <th>Root Mean Square</th>\n",
              "      <th>ID</th>\n",
              "      <th>Source</th>\n",
              "      <th>Location Source</th>\n",
              "      <th>Magnitude Source</th>\n",
              "      <th>Status</th>\n",
              "    </tr>\n",
              "  </thead>\n",
              "  <tbody>\n",
              "    <tr>\n",
              "      <th>count</th>\n",
              "      <td>23412</td>\n",
              "      <td>23412</td>\n",
              "      <td>23412.000000</td>\n",
              "      <td>23412.000000</td>\n",
              "      <td>23412</td>\n",
              "      <td>23412.000000</td>\n",
              "      <td>4461.000000</td>\n",
              "      <td>7097.000000</td>\n",
              "      <td>23412.000000</td>\n",
              "      <td>23409</td>\n",
              "      <td>...</td>\n",
              "      <td>2564.000000</td>\n",
              "      <td>7299.000000</td>\n",
              "      <td>1604.000000</td>\n",
              "      <td>1156.000000</td>\n",
              "      <td>17352.000000</td>\n",
              "      <td>23412</td>\n",
              "      <td>23412</td>\n",
              "      <td>23412</td>\n",
              "      <td>23412</td>\n",
              "      <td>23412</td>\n",
              "    </tr>\n",
              "    <tr>\n",
              "      <th>unique</th>\n",
              "      <td>12401</td>\n",
              "      <td>20472</td>\n",
              "      <td>NaN</td>\n",
              "      <td>NaN</td>\n",
              "      <td>4</td>\n",
              "      <td>NaN</td>\n",
              "      <td>NaN</td>\n",
              "      <td>NaN</td>\n",
              "      <td>NaN</td>\n",
              "      <td>10</td>\n",
              "      <td>...</td>\n",
              "      <td>NaN</td>\n",
              "      <td>NaN</td>\n",
              "      <td>NaN</td>\n",
              "      <td>NaN</td>\n",
              "      <td>NaN</td>\n",
              "      <td>23412</td>\n",
              "      <td>13</td>\n",
              "      <td>48</td>\n",
              "      <td>24</td>\n",
              "      <td>2</td>\n",
              "    </tr>\n",
              "    <tr>\n",
              "      <th>top</th>\n",
              "      <td>03/11/2011</td>\n",
              "      <td>02:56:58</td>\n",
              "      <td>NaN</td>\n",
              "      <td>NaN</td>\n",
              "      <td>Earthquake</td>\n",
              "      <td>NaN</td>\n",
              "      <td>NaN</td>\n",
              "      <td>NaN</td>\n",
              "      <td>NaN</td>\n",
              "      <td>MW</td>\n",
              "      <td>...</td>\n",
              "      <td>NaN</td>\n",
              "      <td>NaN</td>\n",
              "      <td>NaN</td>\n",
              "      <td>NaN</td>\n",
              "      <td>NaN</td>\n",
              "      <td>ISCGEM860706</td>\n",
              "      <td>US</td>\n",
              "      <td>US</td>\n",
              "      <td>US</td>\n",
              "      <td>Reviewed</td>\n",
              "    </tr>\n",
              "    <tr>\n",
              "      <th>freq</th>\n",
              "      <td>128</td>\n",
              "      <td>5</td>\n",
              "      <td>NaN</td>\n",
              "      <td>NaN</td>\n",
              "      <td>23232</td>\n",
              "      <td>NaN</td>\n",
              "      <td>NaN</td>\n",
              "      <td>NaN</td>\n",
              "      <td>NaN</td>\n",
              "      <td>7722</td>\n",
              "      <td>...</td>\n",
              "      <td>NaN</td>\n",
              "      <td>NaN</td>\n",
              "      <td>NaN</td>\n",
              "      <td>NaN</td>\n",
              "      <td>NaN</td>\n",
              "      <td>1</td>\n",
              "      <td>20630</td>\n",
              "      <td>20350</td>\n",
              "      <td>10458</td>\n",
              "      <td>20773</td>\n",
              "    </tr>\n",
              "    <tr>\n",
              "      <th>mean</th>\n",
              "      <td>NaN</td>\n",
              "      <td>NaN</td>\n",
              "      <td>1.679033</td>\n",
              "      <td>39.639961</td>\n",
              "      <td>NaN</td>\n",
              "      <td>70.767911</td>\n",
              "      <td>4.993115</td>\n",
              "      <td>275.364098</td>\n",
              "      <td>5.882531</td>\n",
              "      <td>NaN</td>\n",
              "      <td>...</td>\n",
              "      <td>48.944618</td>\n",
              "      <td>44.163532</td>\n",
              "      <td>3.992660</td>\n",
              "      <td>7.662759</td>\n",
              "      <td>1.022784</td>\n",
              "      <td>NaN</td>\n",
              "      <td>NaN</td>\n",
              "      <td>NaN</td>\n",
              "      <td>NaN</td>\n",
              "      <td>NaN</td>\n",
              "    </tr>\n",
              "    <tr>\n",
              "      <th>std</th>\n",
              "      <td>NaN</td>\n",
              "      <td>NaN</td>\n",
              "      <td>30.113183</td>\n",
              "      <td>125.511959</td>\n",
              "      <td>NaN</td>\n",
              "      <td>122.651898</td>\n",
              "      <td>4.875184</td>\n",
              "      <td>162.141631</td>\n",
              "      <td>0.423066</td>\n",
              "      <td>NaN</td>\n",
              "      <td>...</td>\n",
              "      <td>62.943106</td>\n",
              "      <td>32.141486</td>\n",
              "      <td>5.377262</td>\n",
              "      <td>10.430396</td>\n",
              "      <td>0.188545</td>\n",
              "      <td>NaN</td>\n",
              "      <td>NaN</td>\n",
              "      <td>NaN</td>\n",
              "      <td>NaN</td>\n",
              "      <td>NaN</td>\n",
              "    </tr>\n",
              "    <tr>\n",
              "      <th>min</th>\n",
              "      <td>NaN</td>\n",
              "      <td>NaN</td>\n",
              "      <td>-77.080000</td>\n",
              "      <td>-179.997000</td>\n",
              "      <td>NaN</td>\n",
              "      <td>-1.100000</td>\n",
              "      <td>0.000000</td>\n",
              "      <td>0.000000</td>\n",
              "      <td>5.500000</td>\n",
              "      <td>NaN</td>\n",
              "      <td>...</td>\n",
              "      <td>0.000000</td>\n",
              "      <td>0.000000</td>\n",
              "      <td>0.004505</td>\n",
              "      <td>0.085000</td>\n",
              "      <td>0.000000</td>\n",
              "      <td>NaN</td>\n",
              "      <td>NaN</td>\n",
              "      <td>NaN</td>\n",
              "      <td>NaN</td>\n",
              "      <td>NaN</td>\n",
              "    </tr>\n",
              "    <tr>\n",
              "      <th>25%</th>\n",
              "      <td>NaN</td>\n",
              "      <td>NaN</td>\n",
              "      <td>-18.653000</td>\n",
              "      <td>-76.349750</td>\n",
              "      <td>NaN</td>\n",
              "      <td>14.522500</td>\n",
              "      <td>1.800000</td>\n",
              "      <td>146.000000</td>\n",
              "      <td>5.600000</td>\n",
              "      <td>NaN</td>\n",
              "      <td>...</td>\n",
              "      <td>10.000000</td>\n",
              "      <td>24.100000</td>\n",
              "      <td>0.968750</td>\n",
              "      <td>5.300000</td>\n",
              "      <td>0.900000</td>\n",
              "      <td>NaN</td>\n",
              "      <td>NaN</td>\n",
              "      <td>NaN</td>\n",
              "      <td>NaN</td>\n",
              "      <td>NaN</td>\n",
              "    </tr>\n",
              "    <tr>\n",
              "      <th>50%</th>\n",
              "      <td>NaN</td>\n",
              "      <td>NaN</td>\n",
              "      <td>-3.568500</td>\n",
              "      <td>103.982000</td>\n",
              "      <td>NaN</td>\n",
              "      <td>33.000000</td>\n",
              "      <td>3.500000</td>\n",
              "      <td>255.000000</td>\n",
              "      <td>5.700000</td>\n",
              "      <td>NaN</td>\n",
              "      <td>...</td>\n",
              "      <td>28.000000</td>\n",
              "      <td>36.000000</td>\n",
              "      <td>2.319500</td>\n",
              "      <td>6.700000</td>\n",
              "      <td>1.000000</td>\n",
              "      <td>NaN</td>\n",
              "      <td>NaN</td>\n",
              "      <td>NaN</td>\n",
              "      <td>NaN</td>\n",
              "      <td>NaN</td>\n",
              "    </tr>\n",
              "    <tr>\n",
              "      <th>75%</th>\n",
              "      <td>NaN</td>\n",
              "      <td>NaN</td>\n",
              "      <td>26.190750</td>\n",
              "      <td>145.026250</td>\n",
              "      <td>NaN</td>\n",
              "      <td>54.000000</td>\n",
              "      <td>6.300000</td>\n",
              "      <td>384.000000</td>\n",
              "      <td>6.000000</td>\n",
              "      <td>NaN</td>\n",
              "      <td>...</td>\n",
              "      <td>66.000000</td>\n",
              "      <td>54.000000</td>\n",
              "      <td>4.724500</td>\n",
              "      <td>8.100000</td>\n",
              "      <td>1.130000</td>\n",
              "      <td>NaN</td>\n",
              "      <td>NaN</td>\n",
              "      <td>NaN</td>\n",
              "      <td>NaN</td>\n",
              "      <td>NaN</td>\n",
              "    </tr>\n",
              "    <tr>\n",
              "      <th>max</th>\n",
              "      <td>NaN</td>\n",
              "      <td>NaN</td>\n",
              "      <td>86.005000</td>\n",
              "      <td>179.998000</td>\n",
              "      <td>NaN</td>\n",
              "      <td>700.000000</td>\n",
              "      <td>91.295000</td>\n",
              "      <td>934.000000</td>\n",
              "      <td>9.100000</td>\n",
              "      <td>NaN</td>\n",
              "      <td>...</td>\n",
              "      <td>821.000000</td>\n",
              "      <td>360.000000</td>\n",
              "      <td>37.874000</td>\n",
              "      <td>99.000000</td>\n",
              "      <td>3.440000</td>\n",
              "      <td>NaN</td>\n",
              "      <td>NaN</td>\n",
              "      <td>NaN</td>\n",
              "      <td>NaN</td>\n",
              "      <td>NaN</td>\n",
              "    </tr>\n",
              "  </tbody>\n",
              "</table>\n",
              "<p>11 rows × 21 columns</p>\n",
              "</div>\n",
              "      <button class=\"colab-df-convert\" onclick=\"convertToInteractive('df-a48c9a1d-cfe5-4bc5-911f-ea578258cc4e')\"\n",
              "              title=\"Convert this dataframe to an interactive table.\"\n",
              "              style=\"display:none;\">\n",
              "        \n",
              "  <svg xmlns=\"http://www.w3.org/2000/svg\" height=\"24px\"viewBox=\"0 0 24 24\"\n",
              "       width=\"24px\">\n",
              "    <path d=\"M0 0h24v24H0V0z\" fill=\"none\"/>\n",
              "    <path d=\"M18.56 5.44l.94 2.06.94-2.06 2.06-.94-2.06-.94-.94-2.06-.94 2.06-2.06.94zm-11 1L8.5 8.5l.94-2.06 2.06-.94-2.06-.94L8.5 2.5l-.94 2.06-2.06.94zm10 10l.94 2.06.94-2.06 2.06-.94-2.06-.94-.94-2.06-.94 2.06-2.06.94z\"/><path d=\"M17.41 7.96l-1.37-1.37c-.4-.4-.92-.59-1.43-.59-.52 0-1.04.2-1.43.59L10.3 9.45l-7.72 7.72c-.78.78-.78 2.05 0 2.83L4 21.41c.39.39.9.59 1.41.59.51 0 1.02-.2 1.41-.59l7.78-7.78 2.81-2.81c.8-.78.8-2.07 0-2.86zM5.41 20L4 18.59l7.72-7.72 1.47 1.35L5.41 20z\"/>\n",
              "  </svg>\n",
              "      </button>\n",
              "      \n",
              "  <style>\n",
              "    .colab-df-container {\n",
              "      display:flex;\n",
              "      flex-wrap:wrap;\n",
              "      gap: 12px;\n",
              "    }\n",
              "\n",
              "    .colab-df-convert {\n",
              "      background-color: #E8F0FE;\n",
              "      border: none;\n",
              "      border-radius: 50%;\n",
              "      cursor: pointer;\n",
              "      display: none;\n",
              "      fill: #1967D2;\n",
              "      height: 32px;\n",
              "      padding: 0 0 0 0;\n",
              "      width: 32px;\n",
              "    }\n",
              "\n",
              "    .colab-df-convert:hover {\n",
              "      background-color: #E2EBFA;\n",
              "      box-shadow: 0px 1px 2px rgba(60, 64, 67, 0.3), 0px 1px 3px 1px rgba(60, 64, 67, 0.15);\n",
              "      fill: #174EA6;\n",
              "    }\n",
              "\n",
              "    [theme=dark] .colab-df-convert {\n",
              "      background-color: #3B4455;\n",
              "      fill: #D2E3FC;\n",
              "    }\n",
              "\n",
              "    [theme=dark] .colab-df-convert:hover {\n",
              "      background-color: #434B5C;\n",
              "      box-shadow: 0px 1px 3px 1px rgba(0, 0, 0, 0.15);\n",
              "      filter: drop-shadow(0px 1px 2px rgba(0, 0, 0, 0.3));\n",
              "      fill: #FFFFFF;\n",
              "    }\n",
              "  </style>\n",
              "\n",
              "      <script>\n",
              "        const buttonEl =\n",
              "          document.querySelector('#df-a48c9a1d-cfe5-4bc5-911f-ea578258cc4e button.colab-df-convert');\n",
              "        buttonEl.style.display =\n",
              "          google.colab.kernel.accessAllowed ? 'block' : 'none';\n",
              "\n",
              "        async function convertToInteractive(key) {\n",
              "          const element = document.querySelector('#df-a48c9a1d-cfe5-4bc5-911f-ea578258cc4e');\n",
              "          const dataTable =\n",
              "            await google.colab.kernel.invokeFunction('convertToInteractive',\n",
              "                                                     [key], {});\n",
              "          if (!dataTable) return;\n",
              "\n",
              "          const docLinkHtml = 'Like what you see? Visit the ' +\n",
              "            '<a target=\"_blank\" href=https://colab.research.google.com/notebooks/data_table.ipynb>data table notebook</a>'\n",
              "            + ' to learn more about interactive tables.';\n",
              "          element.innerHTML = '';\n",
              "          dataTable['output_type'] = 'display_data';\n",
              "          await google.colab.output.renderOutput(dataTable, element);\n",
              "          const docLink = document.createElement('div');\n",
              "          docLink.innerHTML = docLinkHtml;\n",
              "          element.appendChild(docLink);\n",
              "        }\n",
              "      </script>\n",
              "    </div>\n",
              "  </div>\n",
              "  "
            ]
          },
          "metadata": {},
          "execution_count": 6
        }
      ]
    },
    {
      "cell_type": "code",
      "source": [
        "data.isnull().sum()"
      ],
      "metadata": {
        "colab": {
          "base_uri": "https://localhost:8080/"
        },
        "id": "HW4AGM3TYLsv",
        "outputId": "629113c0-ef86-463a-c0de-3bb65ede6acc"
      },
      "execution_count": 5,
      "outputs": [
        {
          "output_type": "execute_result",
          "data": {
            "text/plain": [
              "Date                              0\n",
              "Time                              0\n",
              "Latitude                          0\n",
              "Longitude                         0\n",
              "Type                              0\n",
              "Depth                             0\n",
              "Depth Error                   18951\n",
              "Depth Seismic Stations        16315\n",
              "Magnitude                         0\n",
              "Magnitude Type                    3\n",
              "Magnitude Error               23085\n",
              "Magnitude Seismic Stations    20848\n",
              "Azimuthal Gap                 16113\n",
              "Horizontal Distance           21808\n",
              "Horizontal Error              22256\n",
              "Root Mean Square               6060\n",
              "ID                                0\n",
              "Source                            0\n",
              "Location Source                   0\n",
              "Magnitude Source                  0\n",
              "Status                            0\n",
              "dtype: int64"
            ]
          },
          "metadata": {},
          "execution_count": 5
        }
      ]
    },
    {
      "cell_type": "code",
      "source": [
        "data.nunique(axis=0)"
      ],
      "metadata": {
        "colab": {
          "base_uri": "https://localhost:8080/"
        },
        "id": "_Y12u4h8Cwa3",
        "outputId": "5b2e5ee9-dfee-4fb8-8685-349c4268465d"
      },
      "execution_count": 15,
      "outputs": [
        {
          "output_type": "execute_result",
          "data": {
            "text/plain": [
              "Date                          12401\n",
              "Time                          20472\n",
              "Latitude                      20676\n",
              "Longitude                     21474\n",
              "Type                              4\n",
              "Depth                          3485\n",
              "Depth Error                     297\n",
              "Depth Seismic Stations          736\n",
              "Magnitude                        64\n",
              "Magnitude Type                   10\n",
              "Magnitude Error                 100\n",
              "Magnitude Seismic Stations      246\n",
              "Azimuthal Gap                  1109\n",
              "Horizontal Distance            1448\n",
              "Horizontal Error                186\n",
              "Root Mean Square                190\n",
              "ID                            23412\n",
              "Source                           13\n",
              "Location Source                  48\n",
              "Magnitude Source                 24\n",
              "Status                            2\n",
              "dtype: int64"
            ]
          },
          "metadata": {},
          "execution_count": 15
        }
      ]
    },
    {
      "cell_type": "code",
      "source": [
        "data.columns.values"
      ],
      "metadata": {
        "colab": {
          "base_uri": "https://localhost:8080/"
        },
        "id": "Ldl0Y_92GGg-",
        "outputId": "37974936-d9be-42d2-8d79-5944182d7c21"
      },
      "execution_count": 16,
      "outputs": [
        {
          "output_type": "execute_result",
          "data": {
            "text/plain": [
              "array(['Date', 'Time', 'Latitude', 'Longitude', 'Type', 'Depth',\n",
              "       'Depth Error', 'Depth Seismic Stations', 'Magnitude',\n",
              "       'Magnitude Type', 'Magnitude Error', 'Magnitude Seismic Stations',\n",
              "       'Azimuthal Gap', 'Horizontal Distance', 'Horizontal Error',\n",
              "       'Root Mean Square', 'ID', 'Source', 'Location Source',\n",
              "       'Magnitude Source', 'Status'], dtype=object)"
            ]
          },
          "metadata": {},
          "execution_count": 16
        }
      ]
    },
    {
      "cell_type": "code",
      "source": [
        "# DROPPING DATE, TIME, LATITUDE, LONGITUDE, ID ----> HIGH CARDINALITY\n",
        "\n",
        "# DROPPING Depth Error, Depth Seismic Stations, Magnitude Error, Magnitude Seismic Stations, Azimuthal Gap, Horizontal Distance, Horizontal Error, Root Mean Square\n",
        "# ----> DUE TO MORE THAN 30% MISSING VALUES\n",
        "\n",
        "\n",
        "data_cleaned = data.drop(['Date', 'Time', 'Latitude', 'Longitude','Depth Error', 'Depth Seismic Stations', 'Magnitude Error', \n",
        "                          'Magnitude Seismic Stations', 'Azimuthal Gap', 'Horizontal Distance', 'Horizontal Error', 'Root Mean Square', 'ID'], axis=1)"
      ],
      "metadata": {
        "id": "DUPyEvwhEsOm"
      },
      "execution_count": 21,
      "outputs": []
    },
    {
      "cell_type": "code",
      "source": [],
      "metadata": {
        "id": "q3xBbNEgHAFn"
      },
      "execution_count": null,
      "outputs": []
    },
    {
      "cell_type": "code",
      "source": [],
      "metadata": {
        "id": "HmOvKGEZG_oH"
      },
      "execution_count": null,
      "outputs": []
    },
    {
      "cell_type": "code",
      "source": [],
      "metadata": {
        "id": "XJZCOmHAG_dG"
      },
      "execution_count": null,
      "outputs": []
    },
    {
      "cell_type": "code",
      "source": [],
      "metadata": {
        "id": "HlTFqGaOG_R_"
      },
      "execution_count": null,
      "outputs": []
    },
    {
      "cell_type": "code",
      "source": [
        "data_cleaned.isnull().sum()"
      ],
      "metadata": {
        "colab": {
          "base_uri": "https://localhost:8080/"
        },
        "id": "TbAg8LntGs4V",
        "outputId": "c465e483-1353-48df-e5fe-5ee0f1ba284c"
      },
      "execution_count": 23,
      "outputs": [
        {
          "output_type": "execute_result",
          "data": {
            "text/plain": [
              "Type                0\n",
              "Depth               0\n",
              "Magnitude           0\n",
              "Magnitude Type      3\n",
              "Source              0\n",
              "Location Source     0\n",
              "Magnitude Source    0\n",
              "Status              0\n",
              "dtype: int64"
            ]
          },
          "metadata": {},
          "execution_count": 23
        }
      ]
    },
    {
      "cell_type": "code",
      "source": [
        "data_cleaned.nunique(axis=0)"
      ],
      "metadata": {
        "colab": {
          "base_uri": "https://localhost:8080/"
        },
        "id": "o85oRdKCGuPk",
        "outputId": "ecf0a691-23fa-4c21-d7f2-ab23144551f8"
      },
      "execution_count": 24,
      "outputs": [
        {
          "output_type": "execute_result",
          "data": {
            "text/plain": [
              "Type                   4\n",
              "Depth               3485\n",
              "Magnitude             64\n",
              "Magnitude Type        10\n",
              "Source                13\n",
              "Location Source       48\n",
              "Magnitude Source      24\n",
              "Status                 2\n",
              "dtype: int64"
            ]
          },
          "metadata": {},
          "execution_count": 24
        }
      ]
    },
    {
      "cell_type": "code",
      "source": [
        "data_cleaned.info()"
      ],
      "metadata": {
        "colab": {
          "base_uri": "https://localhost:8080/"
        },
        "id": "UvUoeqPoHGiL",
        "outputId": "a57c212e-c850-4f96-d429-aca5908b3678"
      },
      "execution_count": 25,
      "outputs": [
        {
          "output_type": "stream",
          "name": "stdout",
          "text": [
            "<class 'pandas.core.frame.DataFrame'>\n",
            "RangeIndex: 23412 entries, 0 to 23411\n",
            "Data columns (total 8 columns):\n",
            " #   Column            Non-Null Count  Dtype  \n",
            "---  ------            --------------  -----  \n",
            " 0   Type              23412 non-null  object \n",
            " 1   Depth             23412 non-null  float64\n",
            " 2   Magnitude         23412 non-null  float64\n",
            " 3   Magnitude Type    23409 non-null  object \n",
            " 4   Source            23412 non-null  object \n",
            " 5   Location Source   23412 non-null  object \n",
            " 6   Magnitude Source  23412 non-null  object \n",
            " 7   Status            23412 non-null  object \n",
            "dtypes: float64(2), object(6)\n",
            "memory usage: 1.4+ MB\n"
          ]
        }
      ]
    },
    {
      "cell_type": "code",
      "source": [
        "data_cleaned.Status.unique()"
      ],
      "metadata": {
        "colab": {
          "base_uri": "https://localhost:8080/"
        },
        "id": "LZZFjMnqHLl5",
        "outputId": "60a7cb85-7c0f-4ef3-8211-62f3a384c2f4"
      },
      "execution_count": 26,
      "outputs": [
        {
          "output_type": "execute_result",
          "data": {
            "text/plain": [
              "array(['Automatic', 'Reviewed'], dtype=object)"
            ]
          },
          "metadata": {},
          "execution_count": 26
        }
      ]
    },
    {
      "cell_type": "code",
      "source": [
        "plt.hist(data_cleaned['Status'], color='blue')\n",
        "\n",
        "plt.xlabel('Status')\n",
        "plt.ylabel('No. of Samples')\n",
        "plt.title('Status frequencies')"
      ],
      "metadata": {
        "colab": {
          "base_uri": "https://localhost:8080/",
          "height": 397
        },
        "id": "urT0B8IaHv_D",
        "outputId": "8707cf7b-08fc-49ef-98e3-258e0f0b55a6"
      },
      "execution_count": 29,
      "outputs": [
        {
          "output_type": "execute_result",
          "data": {
            "text/plain": [
              "Text(0.5, 1.0, 'Status frequencies')"
            ]
          },
          "metadata": {},
          "execution_count": 29
        },
        {
          "output_type": "display_data",
          "data": {
            "text/plain": [
              "<Figure size 576x396 with 1 Axes>"
            ],
            "image/png": "[encoded data removed]"
          },
          "metadata": {}
        }
      ]
    },
    {
      "cell_type": "code",
      "source": [
        "plt.hist(data_cleaned['Type'], color='blue')\n",
        "\n",
        "plt.xlabel('Type')\n",
        "plt.ylabel('No. of Samples')\n",
        "plt.title('Type frequencies')"
      ],
      "metadata": {
        "colab": {
          "base_uri": "https://localhost:8080/",
          "height": 397
        },
        "id": "rXlk7hNxILDr",
        "outputId": "3225695b-b437-43ae-c383-dced035844d2"
      },
      "execution_count": 30,
      "outputs": [
        {
          "output_type": "execute_result",
          "data": {
            "text/plain": [
              "Text(0.5, 1.0, 'Type frequencies')"
            ]
          },
          "metadata": {},
          "execution_count": 30
        },
        {
          "output_type": "display_data",
          "data": {
            "text/plain": [
              "<Figure size 576x396 with 1 Axes>"
            ],
            "image/png": "[encoded data removed]"
          },
          "metadata": {}
        }
      ]
    },
    {
      "cell_type": "code",
      "source": [
        "# DROPPING TYPE ----> ONLY 1 SIGNIFICANT VALUE\n",
        "\n",
        "data_final = data_cleaned.drop(['Type'], axis=1)"
      ],
      "metadata": {
        "id": "QcNPFQrdIjHR"
      },
      "execution_count": 33,
      "outputs": []
    },
    {
      "cell_type": "code",
      "source": [
        "data_final"
      ],
      "metadata": {
        "colab": {
          "base_uri": "https://localhost:8080/",
          "height": 423
        },
        "id": "KWdKQUTUJtHs",
        "outputId": "fa9f53d9-b003-4eb4-ad31-917fc878c090"
      },
      "execution_count": 34,
      "outputs": [
        {
          "output_type": "execute_result",
          "data": {
            "text/plain": [
              "        Depth  Magnitude Magnitude Type  Source Location Source  \\\n",
              "0      131.60        6.0             MW  ISCGEM          ISCGEM   \n",
              "1       80.00        5.8             MW  ISCGEM          ISCGEM   \n",
              "2       20.00        6.2             MW  ISCGEM          ISCGEM   \n",
              "3       15.00        5.8             MW  ISCGEM          ISCGEM   \n",
              "4       15.00        5.8             MW  ISCGEM          ISCGEM   \n",
              "...       ...        ...            ...     ...             ...   \n",
              "23407   12.30        5.6             ML      NN              NN   \n",
              "23408    8.80        5.5             ML      NN              NN   \n",
              "23409   10.00        5.9            MWW      US              US   \n",
              "23410   79.00        6.3            MWW      US              US   \n",
              "23411   11.94        5.5             MB      US              US   \n",
              "\n",
              "      Magnitude Source     Status  \n",
              "0               ISCGEM  Automatic  \n",
              "1               ISCGEM  Automatic  \n",
              "2               ISCGEM  Automatic  \n",
              "3               ISCGEM  Automatic  \n",
              "4               ISCGEM  Automatic  \n",
              "...                ...        ...  \n",
              "23407               NN   Reviewed  \n",
              "23408               NN   Reviewed  \n",
              "23409               US   Reviewed  \n",
              "23410               US   Reviewed  \n",
              "23411               US   Reviewed  \n",
              "\n",
              "[23412 rows x 7 columns]"
            ],
            "text/html": [
              "\n",
              "  <div id=\"df-e7588bc6-e0a5-456b-8973-e4f0cd7ccff5\">\n",
              "    <div class=\"colab-df-container\">\n",
              "      <div>\n",
              "<style scoped>\n",
              "    .dataframe tbody tr th:only-of-type {\n",
              "        vertical-align: middle;\n",
              "    }\n",
              "\n",
              "    .dataframe tbody tr th {\n",
              "        vertical-align: top;\n",
              "    }\n",
              "\n",
              "    .dataframe thead th {\n",
              "        text-align: right;\n",
              "    }\n",
              "</style>\n",
              "<table border=\"1\" class=\"dataframe\">\n",
              "  <thead>\n",
              "    <tr style=\"text-align: right;\">\n",
              "      <th></th>\n",
              "      <th>Depth</th>\n",
              "      <th>Magnitude</th>\n",
              "      <th>Magnitude Type</th>\n",
              "      <th>Source</th>\n",
              "      <th>Location Source</th>\n",
              "      <th>Magnitude Source</th>\n",
              "      <th>Status</th>\n",
              "    </tr>\n",
              "  </thead>\n",
              "  <tbody>\n",
              "    <tr>\n",
              "      <th>0</th>\n",
              "      <td>131.60</td>\n",
              "      <td>6.0</td>\n",
              "      <td>MW</td>\n",
              "      <td>ISCGEM</td>\n",
              "      <td>ISCGEM</td>\n",
              "      <td>ISCGEM</td>\n",
              "      <td>Automatic</td>\n",
              "    </tr>\n",
              "    <tr>\n",
              "      <th>1</th>\n",
              "      <td>80.00</td>\n",
              "      <td>5.8</td>\n",
              "      <td>MW</td>\n",
              "      <td>ISCGEM</td>\n",
              "      <td>ISCGEM</td>\n",
              "      <td>ISCGEM</td>\n",
              "      <td>Automatic</td>\n",
              "    </tr>\n",
              "    <tr>\n",
              "      <th>2</th>\n",
              "      <td>20.00</td>\n",
              "      <td>6.2</td>\n",
              "      <td>MW</td>\n",
              "      <td>ISCGEM</td>\n",
              "      <td>ISCGEM</td>\n",
              "      <td>ISCGEM</td>\n",
              "      <td>Automatic</td>\n",
              "    </tr>\n",
              "    <tr>\n",
              "      <th>3</th>\n",
              "      <td>15.00</td>\n",
              "      <td>5.8</td>\n",
              "      <td>MW</td>\n",
              "      <td>ISCGEM</td>\n",
              "      <td>ISCGEM</td>\n",
              "      <td>ISCGEM</td>\n",
              "      <td>Automatic</td>\n",
              "    </tr>\n",
              "    <tr>\n",
              "      <th>4</th>\n",
              "      <td>15.00</td>\n",
              "      <td>5.8</td>\n",
              "      <td>MW</td>\n",
              "      <td>ISCGEM</td>\n",
              "      <td>ISCGEM</td>\n",
              "      <td>ISCGEM</td>\n",
              "      <td>Automatic</td>\n",
              "    </tr>\n",
              "    <tr>\n",
              "      <th>...</th>\n",
              "      <td>...</td>\n",
              "      <td>...</td>\n",
              "      <td>...</td>\n",
              "      <td>...</td>\n",
              "      <td>...</td>\n",
              "      <td>...</td>\n",
              "      <td>...</td>\n",
              "    </tr>\n",
              "    <tr>\n",
              "      <th>23407</th>\n",
              "      <td>12.30</td>\n",
              "      <td>5.6</td>\n",
              "      <td>ML</td>\n",
              "      <td>NN</td>\n",
              "      <td>NN</td>\n",
              "      <td>NN</td>\n",
              "      <td>Reviewed</td>\n",
              "    </tr>\n",
              "    <tr>\n",
              "      <th>23408</th>\n",
              "      <td>8.80</td>\n",
              "      <td>5.5</td>\n",
              "      <td>ML</td>\n",
              "      <td>NN</td>\n",
              "      <td>NN</td>\n",
              "      <td>NN</td>\n",
              "      <td>Reviewed</td>\n",
              "    </tr>\n",
              "    <tr>\n",
              "      <th>23409</th>\n",
              "      <td>10.00</td>\n",
              "      <td>5.9</td>\n",
              "      <td>MWW</td>\n",
              "      <td>US</td>\n",
              "      <td>US</td>\n",
              "      <td>US</td>\n",
              "      <td>Reviewed</td>\n",
              "    </tr>\n",
              "    <tr>\n",
              "      <th>23410</th>\n",
              "      <td>79.00</td>\n",
              "      <td>6.3</td>\n",
              "      <td>MWW</td>\n",
              "      <td>US</td>\n",
              "      <td>US</td>\n",
              "      <td>US</td>\n",
              "      <td>Reviewed</td>\n",
              "    </tr>\n",
              "    <tr>\n",
              "      <th>23411</th>\n",
              "      <td>11.94</td>\n",
              "      <td>5.5</td>\n",
              "      <td>MB</td>\n",
              "      <td>US</td>\n",
              "      <td>US</td>\n",
              "      <td>US</td>\n",
              "      <td>Reviewed</td>\n",
              "    </tr>\n",
              "  </tbody>\n",
              "</table>\n",
              "<p>23412 rows × 7 columns</p>\n",
              "</div>\n",
              "      <button class=\"colab-df-convert\" onclick=\"convertToInteractive('df-e7588bc6-e0a5-456b-8973-e4f0cd7ccff5')\"\n",
              "              title=\"Convert this dataframe to an interactive table.\"\n",
              "              style=\"display:none;\">\n",
              "        \n",
              "  <svg xmlns=\"http://www.w3.org/2000/svg\" height=\"24px\"viewBox=\"0 0 24 24\"\n",
              "       width=\"24px\">\n",
              "    <path d=\"M0 0h24v24H0V0z\" fill=\"none\"/>\n",
              "    <path d=\"M18.56 5.44l.94 2.06.94-2.06 2.06-.94-2.06-.94-.94-2.06-.94 2.06-2.06.94zm-11 1L8.5 8.5l.94-2.06 2.06-.94-2.06-.94L8.5 2.5l-.94 2.06-2.06.94zm10 10l.94 2.06.94-2.06 2.06-.94-2.06-.94-.94-2.06-.94 2.06-2.06.94z\"/><path d=\"M17.41 7.96l-1.37-1.37c-.4-.4-.92-.59-1.43-.59-.52 0-1.04.2-1.43.59L10.3 9.45l-7.72 7.72c-.78.78-.78 2.05 0 2.83L4 21.41c.39.39.9.59 1.41.59.51 0 1.02-.2 1.41-.59l7.78-7.78 2.81-2.81c.8-.78.8-2.07 0-2.86zM5.41 20L4 18.59l7.72-7.72 1.47 1.35L5.41 20z\"/>\n",
              "  </svg>\n",
              "      </button>\n",
              "      \n",
              "  <style>\n",
              "    .colab-df-container {\n",
              "      display:flex;\n",
              "      flex-wrap:wrap;\n",
              "      gap: 12px;\n",
              "    }\n",
              "\n",
              "    .colab-df-convert {\n",
              "      background-color: #E8F0FE;\n",
              "      border: none;\n",
              "      border-radius: 50%;\n",
              "      cursor: pointer;\n",
              "      display: none;\n",
              "      fill: #1967D2;\n",
              "      height: 32px;\n",
              "      padding: 0 0 0 0;\n",
              "      width: 32px;\n",
              "    }\n",
              "\n",
              "    .colab-df-convert:hover {\n",
              "      background-color: #E2EBFA;\n",
              "      box-shadow: 0px 1px 2px rgba(60, 64, 67, 0.3), 0px 1px 3px 1px rgba(60, 64, 67, 0.15);\n",
              "      fill: #174EA6;\n",
              "    }\n",
              "\n",
              "    [theme=dark] .colab-df-convert {\n",
              "      background-color: #3B4455;\n",
              "      fill: #D2E3FC;\n",
              "    }\n",
              "\n",
              "    [theme=dark] .colab-df-convert:hover {\n",
              "      background-color: #434B5C;\n",
              "      box-shadow: 0px 1px 3px 1px rgba(0, 0, 0, 0.15);\n",
              "      filter: drop-shadow(0px 1px 2px rgba(0, 0, 0, 0.3));\n",
              "      fill: #FFFFFF;\n",
              "    }\n",
              "  </style>\n",
              "\n",
              "      <script>\n",
              "        const buttonEl =\n",
              "          document.querySelector('#df-e7588bc6-e0a5-456b-8973-e4f0cd7ccff5 button.colab-df-convert');\n",
              "        buttonEl.style.display =\n",
              "          google.colab.kernel.accessAllowed ? 'block' : 'none';\n",
              "\n",
              "        async function convertToInteractive(key) {\n",
              "          const element = document.querySelector('#df-e7588bc6-e0a5-456b-8973-e4f0cd7ccff5');\n",
              "          const dataTable =\n",
              "            await google.colab.kernel.invokeFunction('convertToInteractive',\n",
              "                                                     [key], {});\n",
              "          if (!dataTable) return;\n",
              "\n",
              "          const docLinkHtml = 'Like what you see? Visit the ' +\n",
              "            '<a target=\"_blank\" href=https://colab.research.google.com/notebooks/data_table.ipynb>data table notebook</a>'\n",
              "            + ' to learn more about interactive tables.';\n",
              "          element.innerHTML = '';\n",
              "          dataTable['output_type'] = 'display_data';\n",
              "          await google.colab.output.renderOutput(dataTable, element);\n",
              "          const docLink = document.createElement('div');\n",
              "          docLink.innerHTML = docLinkHtml;\n",
              "          element.appendChild(docLink);\n",
              "        }\n",
              "      </script>\n",
              "    </div>\n",
              "  </div>\n",
              "  "
            ]
          },
          "metadata": {},
          "execution_count": 34
        }
      ]
    },
    {
      "cell_type": "code",
      "source": [
        "plt.hist(data_final['Depth'], color='blue')\n",
        "\n",
        "plt.xlabel('Depth')\n",
        "plt.ylabel('No. of Samples')\n",
        "plt.title('Depth frequencies')"
      ],
      "metadata": {
        "colab": {
          "base_uri": "https://localhost:8080/",
          "height": 397
        },
        "id": "5ivWdnlyjxHV",
        "outputId": "2cb03ddd-b039-43f2-9e48-2b2ec15904f3"
      },
      "execution_count": 62,
      "outputs": [
        {
          "output_type": "execute_result",
          "data": {
            "text/plain": [
              "Text(0.5, 1.0, 'Depth frequencies')"
            ]
          },
          "metadata": {},
          "execution_count": 62
        },
        {
          "output_type": "display_data",
          "data": {
            "text/plain": [
              "<Figure size 576x396 with 1 Axes>"
            ],
            "image/png": "[encoded data removed]"
          },
          "metadata": {}
        }
      ]
    },
    {
      "cell_type": "code",
      "source": [
        "plt.hist(data_final['Magnitude'], color='blue')\n",
        "\n",
        "plt.xlabel('Magnitude')\n",
        "plt.ylabel('No. of Samples')\n",
        "plt.title('Magnitude frequencies')"
      ],
      "metadata": {
        "colab": {
          "base_uri": "https://localhost:8080/",
          "height": 397
        },
        "id": "EsjfafEBjdWe",
        "outputId": "52ab3fc9-95d0-4927-ca1f-f1978bebab1b"
      },
      "execution_count": 60,
      "outputs": [
        {
          "output_type": "execute_result",
          "data": {
            "text/plain": [
              "Text(0.5, 1.0, 'Magnitude frequencies')"
            ]
          },
          "metadata": {},
          "execution_count": 60
        },
        {
          "output_type": "display_data",
          "data": {
            "text/plain": [
              "<Figure size 576x396 with 1 Axes>"
            ],
            "image/png": "[encoded data removed]"
          },
          "metadata": {}
        }
      ]
    },
    {
      "cell_type": "code",
      "source": [],
      "metadata": {
        "id": "nkGnoNV7J8n-"
      },
      "execution_count": null,
      "outputs": []
    },
    {
      "cell_type": "code",
      "source": [],
      "metadata": {
        "id": "iA1NZoaINMWk"
      },
      "execution_count": null,
      "outputs": []
    },
    {
      "cell_type": "code",
      "source": [
        "data_final.columns.values"
      ],
      "metadata": {
        "colab": {
          "base_uri": "https://localhost:8080/"
        },
        "id": "jkjvZDCFOWn3",
        "outputId": "c11b62cb-0391-4bf6-c99f-71c1d4e08c8c"
      },
      "execution_count": 45,
      "outputs": [
        {
          "output_type": "execute_result",
          "data": {
            "text/plain": [
              "array(['Depth', 'Magnitude', 'Magnitude Type', 'Source',\n",
              "       'Location Source', 'Magnitude Source', 'Status'], dtype=object)"
            ]
          },
          "metadata": {},
          "execution_count": 45
        }
      ]
    },
    {
      "cell_type": "code",
      "source": [
        "data_final['Status'] = data_final['Status'].replace(['Automatic', 'Reviewed'], ['0', '1'])\n",
        "one_hot_encoded_data = pd.get_dummies(data_final, columns = ['Magnitude Type', 'Source', 'Location Source', 'Magnitude Source'])\n",
        "print(one_hot_encoded_data)"
      ],
      "metadata": {
        "colab": {
          "base_uri": "https://localhost:8080/"
        },
        "id": "U5oZTfrsOW7i",
        "outputId": "67fed3c1-8690-4ee0-9dad-218f2bdf78d6"
      },
      "execution_count": 46,
      "outputs": [
        {
          "output_type": "stream",
          "name": "stdout",
          "text": [
            "        Depth  Magnitude Status  Magnitude Type_MB  Magnitude Type_MD  \\\n",
            "0      131.60        6.0      0                  0                  0   \n",
            "1       80.00        5.8      0                  0                  0   \n",
            "2       20.00        6.2      0                  0                  0   \n",
            "3       15.00        5.8      0                  0                  0   \n",
            "4       15.00        5.8      0                  0                  0   \n",
            "...       ...        ...    ...                ...                ...   \n",
            "23407   12.30        5.6      1                  0                  0   \n",
            "23408    8.80        5.5      1                  0                  0   \n",
            "23409   10.00        5.9      1                  0                  0   \n",
            "23410   79.00        6.3      1                  0                  0   \n",
            "23411   11.94        5.5      1                  1                  0   \n",
            "\n",
            "       Magnitude Type_MH  Magnitude Type_ML  Magnitude Type_MS  \\\n",
            "0                      0                  0                  0   \n",
            "1                      0                  0                  0   \n",
            "2                      0                  0                  0   \n",
            "3                      0                  0                  0   \n",
            "4                      0                  0                  0   \n",
            "...                  ...                ...                ...   \n",
            "23407                  0                  1                  0   \n",
            "23408                  0                  1                  0   \n",
            "23409                  0                  0                  0   \n",
            "23410                  0                  0                  0   \n",
            "23411                  0                  0                  0   \n",
            "\n",
            "       Magnitude Type_MW  Magnitude Type_MWB  ...  Magnitude Source_NN  \\\n",
            "0                      1                   0  ...                    0   \n",
            "1                      1                   0  ...                    0   \n",
            "2                      1                   0  ...                    0   \n",
            "3                      1                   0  ...                    0   \n",
            "4                      1                   0  ...                    0   \n",
            "...                  ...                 ...  ...                  ...   \n",
            "23407                  0                   0  ...                    1   \n",
            "23408                  0                   0  ...                    1   \n",
            "23409                  0                   0  ...                    0   \n",
            "23410                  0                   0  ...                    0   \n",
            "23411                  0                   0  ...                    0   \n",
            "\n",
            "       Magnitude Source_OFFICIAL  Magnitude Source_PAR  Magnitude Source_PGC  \\\n",
            "0                              0                     0                     0   \n",
            "1                              0                     0                     0   \n",
            "2                              0                     0                     0   \n",
            "3                              0                     0                     0   \n",
            "4                              0                     0                     0   \n",
            "...                          ...                   ...                   ...   \n",
            "23407                          0                     0                     0   \n",
            "23408                          0                     0                     0   \n",
            "23409                          0                     0                     0   \n",
            "23410                          0                     0                     0   \n",
            "23411                          0                     0                     0   \n",
            "\n",
            "       Magnitude Source_PR  Magnitude Source_SE  Magnitude Source_US  \\\n",
            "0                        0                    0                    0   \n",
            "1                        0                    0                    0   \n",
            "2                        0                    0                    0   \n",
            "3                        0                    0                    0   \n",
            "4                        0                    0                    0   \n",
            "...                    ...                  ...                  ...   \n",
            "23407                    0                    0                    0   \n",
            "23408                    0                    0                    0   \n",
            "23409                    0                    0                    1   \n",
            "23410                    0                    0                    1   \n",
            "23411                    0                    0                    1   \n",
            "\n",
            "       Magnitude Source_US_GCMT  Magnitude Source_US_PGC  Magnitude Source_UW  \n",
            "0                             0                        0                    0  \n",
            "1                             0                        0                    0  \n",
            "2                             0                        0                    0  \n",
            "3                             0                        0                    0  \n",
            "4                             0                        0                    0  \n",
            "...                         ...                      ...                  ...  \n",
            "23407                         0                        0                    0  \n",
            "23408                         0                        0                    0  \n",
            "23409                         0                        0                    0  \n",
            "23410                         0                        0                    0  \n",
            "23411                         0                        0                    0  \n",
            "\n",
            "[23412 rows x 98 columns]\n"
          ]
        }
      ]
    },
    {
      "cell_type": "code",
      "source": [
        "import sklearn\n",
        "import imblearn\n",
        "from imblearn.over_sampling import SMOTE"
      ],
      "metadata": {
        "id": "SLT64luoNMe8"
      },
      "execution_count": 38,
      "outputs": []
    },
    {
      "cell_type": "code",
      "source": [
        "def smote_sampler(df, output, SEED=33):\n",
        "     X = df.drop([output], axis=1)\n",
        "     y = df[output]\n",
        "     col_names = pd.concat([X, y], axis=1).columns.tolist()\n",
        "     smt = SMOTE(random_state=SEED)\n",
        "     X_smote, y_smote = smt.fit_resample(X, y)\n",
        "    #  smote_array = np.concatenate([X_smote, y_smote], axis=1)\n",
        "     df_ = pd.concat([X_smote, y_smote], axis=1)\n",
        "     df_.columns = col_names\n",
        "     smote_cols = df_.columns.tolist()\n",
        "     org_int_cols = df.dtypes.index[df.dtypes == 'int64'].tolist()\n",
        "     org_float_cols = df.dtypes.index[df.dtypes == 'float64'].tolist()\n",
        "     try:\n",
        "         for col in smote_cols:\n",
        "             if col in org_float_cols:\n",
        "                 df_[col] = df_[col].astype('float64')\n",
        "             elif col in org_int_cols:\n",
        "                 df_[col] = df_[col].astype('int64')\n",
        "     except:\n",
        "         raise ValueError\n",
        "     return df_"
      ],
      "metadata": {
        "id": "-o-VU4c2NMt9"
      },
      "execution_count": 55,
      "outputs": []
    },
    {
      "cell_type": "code",
      "source": [
        "data_resampled = smote_sampler(one_hot_encoded_data, 'Status')"
      ],
      "metadata": {
        "id": "tHhlL8MENeLc"
      },
      "execution_count": 56,
      "outputs": []
    },
    {
      "cell_type": "code",
      "source": [
        "plt.hist(data_resampled['Status'], color='blue')\n",
        "\n",
        "plt.xlabel('Status')\n",
        "plt.ylabel('No. of Samples')\n",
        "plt.title('Status frequencies')"
      ],
      "metadata": {
        "colab": {
          "base_uri": "https://localhost:8080/",
          "height": 397
        },
        "id": "wJYGaKixNniD",
        "outputId": "d2b3606b-bae4-46e4-c67a-a80fa6c0753c"
      },
      "execution_count": 57,
      "outputs": [
        {
          "output_type": "execute_result",
          "data": {
            "text/plain": [
              "Text(0.5, 1.0, 'Status frequencies')"
            ]
          },
          "metadata": {},
          "execution_count": 57
        },
        {
          "output_type": "display_data",
          "data": {
            "text/plain": [
              "<Figure size 576x396 with 1 Axes>"
            ],
            "image/png": "[encoded data removed]"
          },
          "metadata": {}
        }
      ]
    },
    {
      "cell_type": "code",
      "source": [
        "# plt.hist(data_resampled['Magnitude'], color='blue')\n",
        "\n",
        "# plt.xlabel('Magnitude')\n",
        "# plt.ylabel('No. of Samples')\n",
        "# plt.title('Magnitude frequencies')"
      ],
      "metadata": {
        "id": "e-oSrBTdSrWt"
      },
      "execution_count": 64,
      "outputs": []
    },
    {
      "cell_type": "code",
      "source": [
        "# plt.hist(data_resampled['Depth'], color='blue')\n",
        "\n",
        "# plt.xlabel('Depth')\n",
        "# plt.ylabel('No. of Samples')\n",
        "# plt.title('Depth frequencies')"
      ],
      "metadata": {
        "id": "xpraafP6jxj-"
      },
      "execution_count": 65,
      "outputs": []
    },
    {
      "cell_type": "code",
      "source": [],
      "metadata": {
        "id": "7FNZfwKNjxTP"
      },
      "execution_count": null,
      "outputs": []
    },
    {
      "cell_type": "code",
      "source": [],
      "metadata": {
        "id": "3mqc91p0kPMv"
      },
      "execution_count": null,
      "outputs": []
    },
    {
      "cell_type": "code",
      "source": [],
      "metadata": {
        "id": "rt2i-VZDkRh1"
      },
      "execution_count": null,
      "outputs": []
    },
    {
      "cell_type": "code",
      "source": [],
      "metadata": {
        "id": "uI_Tog7kkRu4"
      },
      "execution_count": null,
      "outputs": []
    },
    {
      "cell_type": "code",
      "source": [],
      "metadata": {
        "id": "ATXqXZaKjzDh"
      },
      "execution_count": null,
      "outputs": []
    }
  ]
}